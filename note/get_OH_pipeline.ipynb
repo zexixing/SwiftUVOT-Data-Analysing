{
  "cells": [
    {
      "cell_type": "code",
      "source": [
        "%run __init__.py\n",
        "import numpy as np\n",
        "import pandas as pd\n",
        "import matplotlib.pyplot as plt\n",
        "from astropy.io import fits\n",
        "from itertools import combinations\n",
        "from tools import *\n",
        "from before_stack import *\n",
        "from conversion import *\n",
        "from aper_phot import *\n",
        "from cr_to_flux import *\n",
        "mon = 'dec'"
      ],
      "outputs": [],
      "execution_count": 49,
      "metadata": {
        "collapsed": false,
        "outputHidden": false,
        "inputHidden": false
      }
    },
    {
      "cell_type": "code",
      "source": [
        "#untar_obs('Borisov_raw_dec')\n",
        "'''\n",
        "make_obs_log(horizon_id=90004424,\n",
        "             folder_name='Borisov_raw_dec',\n",
        "             map_type='sk',\n",
        "             output_name='dec_obs-log_Borisov.txt')\n",
        "'''"
      ],
      "outputs": [
        {
          "output_type": "execute_result",
          "execution_count": 50,
          "data": {
            "text/plain": [
              "\"\\nmake_obs_log(horizon_id=90004424,\\n             folder_name='Borisov_raw_dec',\\n             map_type='sk',\\n             output_name='dec_obs-log_Borisov.txt')\\n\""
            ]
          },
          "metadata": {}
        }
      ],
      "execution_count": 50,
      "metadata": {
        "collapsed": false,
        "outputHidden": false,
        "inputHidden": false
      }
    },
    {
      "cell_type": "code",
      "source": [
        "# stack image\n",
        "'''\n",
        "stack_image(obs_log_name='dec_obs-log_Borisov_part.txt',\n",
        "            filt='uvv', size=(1000,1000),\n",
        "            output_name='dec_stack_part')\n",
        "\n",
        "stack_image(obs_log_name='dec_obs-log_Borisov_part.txt',\n",
        "            filt='uw1', size=(1000,1000),\n",
        "            output_name='dec_stack_part')\n",
        "'''"
      ],
      "outputs": [
        {
          "output_type": "execute_result",
          "execution_count": 51,
          "data": {
            "text/plain": [
              "\"\\nstack_image(obs_log_name='dec_obs-log_Borisov_part.txt',\\n            filt='uvv', size=(1000,1000),\\n            output_name='dec_stack_part')\\n\\nstack_image(obs_log_name='dec_obs-log_Borisov_part.txt',\\n            filt='uw1', size=(1000,1000),\\n            output_name='dec_stack_part')\\n\""
            ]
          },
          "metadata": {}
        }
      ],
      "execution_count": 51,
      "metadata": {
        "collapsed": false,
        "outputHidden": false,
        "inputHidden": false
      }
    },
    {
      "cell_type": "code",
      "source": [
        "# aperture photometry\n",
        "# src_method = 'count', 'median'\n",
        "# bg_method = 'circle_mean', 'circle_median', 'donut_mean', 'donut_median', 'multi_mean'\n",
        "src_center = (1000, 1000)\n",
        "if mon == 'sep':\n",
        "    img_name_uw1 = 'sep_stack_uw1.fits'\n",
        "    img_name_v = 'sep_stack_part_uvv.fits'\n",
        "    src_r = 15\n",
        "    bg_reg_name_uw1 = 'sep_bg_uw1_new.reg'\n",
        "    bg_reg_name_v = 'sep_bg_uvv_new.reg'\n",
        "if mon == 'nov':\n",
        "    img_name_uw1 = 'nov_stack_uw1.fits'\n",
        "    img_name_v = 'nov_stack_uvv.fits'\n",
        "    src_r = 50\n",
        "    bg_reg_name_uw1 = 'nov_bg_uw1_new.reg'\n",
        "    bg_reg_name_v = 'nov_bg_uvv_new.reg'\n",
        "if mon == 'dec':\n",
        "    img_name_uw1 = 'dec_stack_uw1.fits'\n",
        "    img_name_v = 'dec_stack_uvv.fits'\n",
        "    src_r = 40\n",
        "    bg_reg_name_uw1 = 'dec_bg_uw1_new.reg'\n",
        "    bg_reg_name_v = 'dec_bg_uvv_new.reg'\n",
        "# uw1\n",
        "\n",
        "bg_uw1 = load_reg_list(bg_reg_name_uw1)\n",
        "bg_x_uw1 = bg_uw1[1]\n",
        "bg_y_uw1 = bg_uw1[0]\n",
        "bg_r_uw1 = bg_uw1[2]\n",
        "bg_center_uw1 = list(zip(bg_x_uw1, bg_y_uw1))\n",
        "bg_v = load_reg_list(bg_reg_name_v)\n",
        "bg_x_v = bg_v[1]\n",
        "bg_y_v = bg_v[0]\n",
        "bg_r_v = bg_v[2]\n",
        "bg_center_v = list(zip(bg_x_v, bg_y_v))\n",
        "    \n",
        "result_uw1 = aper_phot(img_name_uw1, 'uw1', \n",
        "                       #src_center_uw1, src_r_uw1, \n",
        "                       src_center, src_r,\n",
        "                       bg_center_uw1, bg_r_uw1,\n",
        "                       'count', 'multi_mean')\n",
        "\n",
        "\n",
        "cr_uw1, cr_uw1_err = result_uw1[0]\n",
        "snr_uw1 = result_uw1[1]\n",
        "mag_uw1, mag_uw1_err = result_uw1[2]\n",
        "bg_cr_uw1, bg_cr_uw1_err = result_uw1[3]\n",
        "\n",
        "print('UW1:\\n'\n",
        "      +'COUNT RATE (cts/s): '+str(cr_uw1)+' +/- '+str(cr_uw1_err)+'\\n'\n",
        "      +'SNR: '+str(snr_uw1)+'\\n'\n",
        "      +'MAGNITUDE (mag): '+str(mag_uw1)+' +/- '+str(mag_uw1_err)+'\\n'\n",
        "      +'BACKGROUND CR (cts/s/arcsec2): '+str(bg_cr_uw1)+' +/- '+str(bg_cr_uw1_err)+'\\n')\n",
        "    \n",
        "result_v = aper_phot(img_name_v, 'v',\n",
        "                     #src_center_v, src_r_v, \n",
        "                     src_center, src_r,\n",
        "                     bg_center_v, bg_r_v,\n",
        "                     'count', 'multi_mean')\n",
        "\n",
        "cr_v, cr_v_err = result_v[0]\n",
        "snr_v = result_v[1]\n",
        "mag_v, mag_v_err = result_v[2]\n",
        "bg_cr_v, bg_cr_v_err = result_v[3]\n",
        "\n",
        "print('V:\\n'\n",
        "      +'COUNT RATE (cts/s): '+str(cr_v)+' +/- '+str(cr_v_err)+'\\n'\n",
        "      +'SNR: '+str(snr_v)+'\\n'\n",
        "      +'MAGNITUDE (mag): '+str(mag_v)+' +/- '+str(mag_v_err)+'\\n'\n",
        "      +'BACKGROUND CR (cts/s/arcsec2): '+str(bg_cr_v)+' +/- '+str(bg_cr_v_err)+'\\n')\n"
      ],
      "outputs": [
        {
          "output_type": "stream",
          "name": "stdout",
          "text": [
            "UW1:\n",
            "COUNT RATE (cts/s): 1.4038705657669623 +/- 0.05635475177080336\n",
            "SNR: 24.91130777181932\n",
            "MAGNITUDE (mag): 17.12168232874282 +/- 0.05291097464972382\n",
            "BACKGROUND CR (cts/s/arcsec2): 0.0023460622695572987 +/- 4.803332714463078e-06\n",
            "\n",
            "V:\n",
            "COUNT RATE (cts/s): 8.117312354063658 +/- 0.6566104181383055\n",
            "SNR: 12.362448310032548\n",
            "MAGNITUDE (mag): 15.616469355164707 +/- 0.08878226198647621\n",
            "BACKGROUND CR (cts/s/arcsec2): 0.021037301349640297 +/- 7.375360904696688e-05\n",
            "\n"
          ]
        }
      ],
      "execution_count": 52,
      "metadata": {
        "collapsed": false,
        "outputHidden": false,
        "inputHidden": false
      }
    },
    {
      "cell_type": "code",
      "source": [
        "# calculate OH\n",
        "spec_name_sun = 'sun_1A.txt'\n",
        "spec_name_OH = '2019-07-15_emission_models_OH.txt'\n",
        "spec_name_sum = 'cont_emis_sum.txt'\n",
        "\n",
        "# method = 'cr', 'flux_cf', 'flux_my_cf', 'flux_cr'\n",
        "flux, flux_err = get_OH('flux_cr', \n",
        "                        spec_name_sun, \n",
        "                        spec_name_OH, \n",
        "                        spec_name_sum,\n",
        "                        cr_uw1, cr_uw1_err,\n",
        "                        cr_v, cr_v_err,\n",
        "                        0)\n",
        "print('flux of OH: '+str(flux)+' +/- '+str(flux_err))\n"
      ],
      "outputs": [
        {
          "output_type": "stream",
          "name": "stdout",
          "text": [
            "beta: 0.09276191501510327\n",
            "cr to flux: 1.2750906353215913e-12\n",
            "flux of uw1 (reflection): 7.227546745101541e-12 +/- 5.846371660244792e-13\n",
            "flux of v: 1.9604669898410466e-12 +/- 1.5858242159443944e-13\n",
            "flux of OH: 8.299477308689231e-13 +/- 1.0580714144152021e-13\n"
          ]
        }
      ],
      "execution_count": 53,
      "metadata": {
        "collapsed": false,
        "outputHidden": false,
        "inputHidden": false
      }
    },
    {
      "cell_type": "code",
      "source": [
        "obs_log_name = mon+'_obs-log_Borisov.txt'\n",
        "wvm_name = mon+'_wvm.txt'\n",
        "    \n",
        "num, num_err = flux2num(flux, flux_err, \n",
        "                        'fluorescenceOH.txt', \n",
        "                        obs_log_name, \n",
        "                        method='both_ends', \n",
        "                        horizon_id=90004424)\n",
        "print('number of molecules: '\n",
        "      + str(num) + ' +/- ' + str(num_err))\n",
        "\n",
        "q, q_err = num2q(num, num_err, \n",
        "                 wvm_name, aperture=src_r)\n",
        "print('production rate (mol s-1): '\n",
        "      + str(q) + ' +/- ' + str(q_err))"
      ],
      "outputs": [
        {
          "output_type": "stream",
          "name": "stdout",
          "text": [
            "start time: 2019-12-01T03:28:18.000\n",
            "end time: 2019-12-01T21:16:55.000\n",
            "flux to num: 2.1459070334570388e+43\n",
            "mid-time r: 2.012781827365 (AU)\n",
            "mid-time rv: -2.9978846 (km/s)\n",
            "mid-time delta: 2.0442848638869853 (AU)\n",
            "mid-time g factor (for 3 total lines): 5.47687225116026e-16 (erg s-1 mol-1)\n",
            "number of molecules: 1.7809906730733316e+31 +/- 2.2705228900934193e+30\n",
            "num to q: 4.641099672325722e-05\n",
            "production rate (mol s-1): 8.265755229215806e+26 +/- 1.0537723041220619e+26\n"
          ]
        }
      ],
      "execution_count": 54,
      "metadata": {
        "collapsed": false,
        "outputHidden": false,
        "inputHidden": false
      }
    },
    {
      "cell_type": "code",
      "source": [
        "# Effective visual bond albedo = 0.05\n",
        "# Effective thermal albedo = 1\n",
        "if mon == 'sep':\n",
        "    z = 6.239E+16\n",
        "elif mon == 'nov':\n",
        "    z = 8.747E+16\n",
        "elif mon == 'dec':\n",
        "    z = 1.013E+17\n",
        "active_area = q/z\n",
        "active_area_err = q_err/z\n",
        "r = np.sqrt(active_area/(4*np.pi))\n",
        "r_err = active_area_err/(4*np.sqrt(np.pi*active_area))\n",
        "\n",
        "print('active area(km2): '+str(active_area/1e10)+' +/- '+str(active_area_err/1e10))\n",
        "print('radiu(km): '+str(r/1e5)+' +/- '+str(r_err/1e5))"
      ],
      "outputs": [
        {
          "output_type": "stream",
          "name": "stdout",
          "text": [
            "active area(km2): 0.8159679397054102 +/- 0.10402490662606732\n",
            "radiu(km): 0.2548188876522163 +/- 0.01624298560317834\n"
          ]
        }
      ],
      "execution_count": 55,
      "metadata": {
        "collapsed": false,
        "outputHidden": false,
        "inputHidden": false
      }
    },
    {
      "cell_type": "code",
      "source": [
        "def q_from_v(v, v_err):\n",
        "    log_q = 30.675 - 0.2453*v\n",
        "    log_q_err_0 = error_prop('mul', \n",
        "                             0.2453, 0.0013,\n",
        "                             v, v_err)\n",
        "    log_q_err = error_prop('sub',\n",
        "                           30.675, 0.007,\n",
        "                           0.2453*v, log_q_err_0)\n",
        "    q = np.power(10, log_q)\n",
        "    q_err = np.power(10, log_q)*np.log(10.)*log_q_err\n",
        "    return q, q_err\n",
        "\n",
        "q_from_v(result_v[2][0], result_v[2][1])"
      ],
      "outputs": [
        {
          "output_type": "execute_result",
          "execution_count": 56,
          "data": {
            "text/plain": [
              "(6.98682824366647e+26, 4.920440497768268e+25)"
            ]
          },
          "metadata": {}
        }
      ],
      "execution_count": 56,
      "metadata": {
        "collapsed": false,
        "outputHidden": false,
        "inputHidden": false
      }
    }
  ],
  "metadata": {
    "kernel_info": {
      "name": "python3"
    },
    "language_info": {
      "name": "python",
      "version": "3.7.4",
      "mimetype": "text/x-python",
      "codemirror_mode": {
        "name": "ipython",
        "version": 3
      },
      "pygments_lexer": "ipython3",
      "nbconvert_exporter": "python",
      "file_extension": ".py"
    },
    "kernelspec": {
      "name": "python3",
      "language": "python",
      "display_name": "Python 3"
    },
    "nteract": {
      "version": "0.15.0"
    }
  },
  "nbformat": 4,
  "nbformat_minor": 0
}