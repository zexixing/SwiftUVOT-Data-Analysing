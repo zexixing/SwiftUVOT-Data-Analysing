{
  "cells": [
    {
      "cell_type": "code",
      "source": [
        "%run __init__.py\n",
        "import numpy as np\n",
        "from astropy.io import fits\n",
        "import matplotlib.pyplot as plt\n",
        "from aper_phot import *\n",
        "from cr2others import *"
      ],
      "outputs": [],
      "execution_count": 1,
      "metadata": {
        "collapsed": false,
        "outputHidden": false,
        "inputHidden": false
      }
    },
    {
      "cell_type": "code",
      "source": [
        "# do photometry for initial regions -> cr\n",
        "def print_aper_phot(method, filt):\n",
        "    if filt == 'uw1':\n",
        "        src_count = 53894.58\n",
        "        src_count_err = 232.152\n",
        "        src_pixel = 1364\n",
        "        exposure = 8204.588239698116\n",
        "        if method == 'annulus':\n",
        "            bg_bri = 38.2686\n",
        "            bg_bri_err = 0.070691\n",
        "        elif method == 'single':\n",
        "            bg_bri = 38.5936\n",
        "            bg_bri_err = 0.168209\n",
        "        elif method == 'mean':\n",
        "            bg_bri_w = 38.0478\n",
        "            bg_bri_w_err = 0.167016\n",
        "            bg_bri_y = 38.2495\n",
        "            bg_bri_y_err = 0.167458\n",
        "            bg_bri_r = 38.3052\n",
        "            bg_bri_r_err = 0.16758\n",
        "            bg_bri_err = np.sqrt(bg_bri_w_err**2+\n",
        "                             bg_bri_y_err**2+\n",
        "                             bg_bri_r_err**2)/3.\n",
        "            bg_bri = (bg_bri_w + bg_bri_y + bg_bri_r)/3.\n",
        "    elif filt == 'v':\n",
        "        src_count = 222300.59\n",
        "        src_count_err = 471.488\n",
        "        src_pixel = 1364\n",
        "        exposure = 3099.1212399362225\n",
        "        if method == 'annulus':\n",
        "            bg_bri = 158.389\n",
        "            bg_bri_err = 0.171248\n",
        "        elif method == 'single':\n",
        "            bg_bri = 159.07\n",
        "            bg_bri_err = 0.341497\n",
        "        elif method == 'mean':\n",
        "            bg_bri_w = 158.038\n",
        "            bg_bri_w_err = 0.340387\n",
        "            bg_bri_y = 159.274\n",
        "            bg_bri_y_err = 0.341716\n",
        "            bg_bri_r = 157.915\n",
        "            bg_bri_r_err = 0.340255\n",
        "            bg_bri_err = np.sqrt(bg_bri_w_err**2+\n",
        "                             bg_bri_y_err**2+\n",
        "                             bg_bri_r_err**2)/3.\n",
        "            bg_bri = (bg_bri_w + bg_bri_y + bg_bri_r)/3.\n",
        "    net_cr, net_cr_err, snr = aper_phot(src_count, src_pixel, bg_bri, exposure, src_count_err, bg_bri_err)\n",
        "    return net_cr, net_cr_err, snr\n",
        "\n",
        "# return: cr, cr error, snr; mag, mag error\n",
        "for filt_value in ['uw1', 'v']:\n",
        "    print(filt_value)\n",
        "    \n",
        "    print('annulus: ')\n",
        "    cr, cr_err, snr = print_aper_phot('annulus', filt_value)\n",
        "    print(cr, cr_err, snr)\n",
        "    print(cr2mag(cr, cr_err, filt_value))\n",
        "\n",
        "    print('single: ')\n",
        "    cr, cr_err, snr = print_aper_phot('single', filt_value)\n",
        "    print(cr, cr_err, snr)\n",
        "    print(cr2mag(cr, cr_err, filt_value))\n",
        "\n",
        "    print('mean: ')\n",
        "    cr, cr_err, snr = print_aper_phot('mean', filt_value)\n",
        "    print(cr, cr_err, snr)\n",
        "    print(cr2mag(cr, cr_err, filt_value))"
      ],
      "outputs": [],
      "execution_count": null,
      "metadata": {
        "collapsed": false,
        "outputHidden": false,
        "inputHidden": false
      }
    },
    {
      "cell_type": "code",
      "source": [
        "# do photometry for new regions -> cr\n",
        "def print_aper_phot_new(filt):\n",
        "    if filt == 'uw1':\n",
        "        img_name_uw1 = 'stacked_img_uw1.fits'\n",
        "        src_center_uw1 = (1002.3406603987888,1002.4841259027182)\n",
        "        src_r_uw1 = 13.0\n",
        "        bg_center_uw1 = [(1078.312, 1047.9472), (867.49601, 970.18721), (964.26401, 1066.9552)]\n",
        "        bg_r_uw1 = [50, 50, 50]\n",
        "        cr, snr, mag = aper_phot_multi(img_name_uw1, 'uw1', src_center_uw1, src_r_uw1, bg_center_uw1, bg_r_uw1)\n",
        "        cr_err = cr/snr\n",
        "    elif filt == 'v':\n",
        "        img_name_uvv = 'stacked_img_uvv.fits'\n",
        "        src_center_uvv = (1002.3406603987888,1002.4841259027182)\n",
        "        src_r_uvv = 15.0\n",
        "        bg_center_uvv = [(1053.4288, 1009.2016), (1007.656, 952.32321), (952.69199, 985.3512)]\n",
        "        bg_r_uvv = [30, 30, 30]\n",
        "        cr, snr, mag = aper_phot_multi(img_name_uvv, 'v', src_center_uvv, src_r_uvv, bg_center_uvv, bg_r_uvv)\n",
        "        cr_err = cr/snr\n",
        "    return cr, cr_err, snr, mag"
      ],
      "outputs": [],
      "execution_count": 2,
      "metadata": {
        "collapsed": false,
        "outputHidden": false,
        "inputHidden": false
      }
    },
    {
      "cell_type": "code",
      "source": [
        "# calculate solar mag, sb and 'equivalent flux' from spectra\n",
        "# return: mag, sb, mean flux\n",
        "print(mag_sb_flux_from_spec('sun_ref_colina96.asc.txt', 'uw1'))\n",
        "print(mag_sb_flux_from_spec('sun_ref_colina96.asc.txt', 'v'))\n",
        "print(mag_sb_flux_from_spec('sun_ref_colina96.asc.txt', 'b'))\n",
        "print('transferred V:-26.754918679528174  vs Literature:-26.74 ')"
      ],
      "outputs": [
        {
          "output_type": "stream",
          "name": "stdout",
          "text": [
            "(6.637939828681728e+16, -24.5650832782901, 19780.39689548868, 19780.39689548868)\n",
            "(7.166794875915342e+17, -26.748312436270496, 143844.02327500924, 143844.02327500924)\n",
            "(1.2180428025375892e+18, -26.104156374640482, 156762.10868658774, 156762.10868658774)\n",
            "transferred V:-26.754918679528174  vs Literature:-26.74 \n"
          ]
        }
      ],
      "execution_count": 5,
      "metadata": {
        "collapsed": false,
        "outputHidden": false,
        "inputHidden": false
      }
    },
    {
      "cell_type": "code",
      "source": [
        "# -> beta\n",
        "# ??flux: ∫flux(λ)Aeff(λ)dλ/∫Aeff(λ)dλ\n",
        "sb_sun_uw1 = 28703.772459088963\n",
        "sb_sun_v = 58756.33809889044\n",
        "equi_flux_uw1 = 25.748757806560384\n",
        "equi_flux_v = 186.8160944771781\n",
        "sb_x = sb_sun_uw1/sb_sun_v\n",
        "equi_flux_x = equi_flux_uw1/equi_flux_v\n",
        "print(sb_x, equi_flux_x)\n",
        "\n",
        "# mean flux density: ∫flux(λ)Aeff(λ)λdλ/∫Aeff(λ)λdλ\n",
        "sb_sun_uw1 = 28703.772459088963\n",
        "sb_sun_v = 58756.33809889044\n",
        "equi_flux_uw1 = 30.894183606283132\n",
        "equi_flux_v = 186.78878481058857\n",
        "sb_x = sb_sun_uw1/sb_sun_v\n",
        "equi_flux_x = equi_flux_uw1/equi_flux_v\n",
        "print(sb_x, equi_flux_x)"
      ],
      "outputs": [
        {
          "output_type": "stream",
          "name": "stdout",
          "text": [
            "0.4885221473601502 0.13782944065189157\n",
            "0.4885221473601502 0.16539635202194336\n"
          ]
        }
      ],
      "execution_count": 3,
      "metadata": {
        "collapsed": false,
        "outputHidden": false,
        "inputHidden": false
      }
    },
    {
      "cell_type": "code",
      "source": [
        "# OH = alpha*(UW1 - beta*V), but save alpha now\n",
        "def cr2OH():\n",
        "    # beta\n",
        "    sun_cr_uw1, sun_mag_uw1, sun_sb_uw1, sun_flux_uw1 = mag_sb_flux_from_spec('sun_ref_colina96.asc.txt', 'uw1')\n",
        "    sun_cr_v, sun_mag_v, sun_sb_v, sun_flux_v = mag_sb_flux_from_spec('sun_ref_colina96.asc.txt', 'v')\n",
        "    beta_flux = sun_flux_uw1/sun_flux_v\n",
        "    beta_cr = sun_cr_uw1/sun_cr_v\n",
        "    print('beta_flux: '+str(beta_flux))\n",
        "    print('beta_cr: '+str(beta_cr)+' pred: 0.09386768658763633')\n",
        "    # comet photometry\n",
        "    cr_uw1, cr_err_uw1, snr_uw1, mag_uw1 = print_aper_phot_new('uw1')\n",
        "    cr_v, cr_err_v, snr_v, mag_v = print_aper_phot_new('v')\n",
        "    flux_uw1, flux_err_uw1 = cr2flux(cr_uw1, cr_err_uw1, 'uw1')\n",
        "    flux_v, flux_err_v = cr2flux(cr_v, cr_err_v, 'v')\n",
        "    print('cr_uw1: '+str(cr_uw1)+' flux_uw1: '+str(flux_uw1))\n",
        "    print('cr_v: '+str(cr_v)+' flux_uw1: '+str(flux_v))\n",
        "    # calculate OH\n",
        "    alpha = 1.\n",
        "    OH_flux = alpha*(flux_uw1 - beta_flux*flux_v)\n",
        "    OH_cr = alpha*(cr_uw1 - beta_cr*cr_v)\n",
        "    return OH_flux, OH_cr\n",
        "\n",
        "get_OH = cr2OH()\n",
        "print(' ')\n",
        "print('OH_flux: '+str(get_OH[0]))\n",
        "print('OH_cr: '+str(get_OH[1]))"
      ],
      "outputs": [
        {
          "output_type": "stream",
          "name": "stdout",
          "text": [
            "beta_flux: 0.1375128173220752\n",
            "beta_cr: 0.09262075926003019 pred: 0.09386768658763633\n",
            "cr_uw1: 0.16002345185905942 flux_uw1: 4.7685388419481116e-14\n",
            "cr_v: 1.7676817492487165 flux_uw1: 3.547896362099607e-13\n",
            " \n",
            "OH_flux: -1.1027340124247262e-15\n",
            "OH_cr: -0.0037005738864550053\n"
          ]
        }
      ],
      "execution_count": 4,
      "metadata": {
        "collapsed": false,
        "outputHidden": false,
        "inputHidden": false
      }
    },
    {
      "cell_type": "code",
      "source": [
        "def how_does_arf_look_like():\n",
        "    # load b\n",
        "    ea_path = get_path('../data/auxil/arf_'+'b'+'.fits')\n",
        "    ea_data = fits.open(ea_path)[1].data\n",
        "    ea_wave_b = (ea_data['WAVE_MIN']+ea_data['WAVE_MAX'])/2. \n",
        "    ea_area_b = ea_data['SPECRESP']\n",
        "    # load v\n",
        "    ea_path = get_path('../data/auxil/arf_'+'v'+'.fits')\n",
        "    ea_data = fits.open(ea_path)[1].data\n",
        "    ea_wave_v = (ea_data['WAVE_MIN']+ea_data['WAVE_MAX'])/2. \n",
        "    ea_area_v = ea_data['SPECRESP']\n",
        "    # load uw1\n",
        "    ea_path = get_path('../data/auxil/arf_'+'uw1'+'.fits')\n",
        "    ea_data = fits.open(ea_path)[1].data\n",
        "    ea_wave_uw1 = (ea_data['WAVE_MIN']+ea_data['WAVE_MAX'])/2. \n",
        "    ea_area_uw1 = ea_data['SPECRESP']\n",
        "    # plot\n",
        "    plt.plot(ea_wave_b, ea_area_b, 'k--', MarkerSize=1)\n",
        "    plt.plot(ea_wave_v, ea_area_v, 'r--', MarkerSize=1)\n",
        "    plt.plot(ea_wave_uw1, ea_area_uw1, 'r-', MarkerSize=1)\n",
        "    plt.xlabel(r'$\\AA$')\n",
        "    plt.ylabel(r'$cm^2$')\n",
        "    plt.show()\n",
        "how_does_arf_look_like()"
      ],
      "outputs": [
        {
          "output_type": "display_data",
          "data": {
            "text/plain": [
              "<Figure size 432x288 with 1 Axes>"
            ],
            "image/png": "[encoded data removed]"
          },
          "metadata": {
            "needs_background": "light"
          }
        }
      ],
      "execution_count": 8,
      "metadata": {
        "collapsed": false,
        "outputHidden": false,
        "inputHidden": false
      }
    }
  ],
  "metadata": {
    "kernel_info": {
      "name": "python3"
    },
    "language_info": {
      "name": "python",
      "version": "3.7.4",
      "mimetype": "text/x-python",
      "codemirror_mode": {
        "name": "ipython",
        "version": 3
      },
      "pygments_lexer": "ipython3",
      "nbconvert_exporter": "python",
      "file_extension": ".py"
    },
    "kernelspec": {
      "name": "python3",
      "language": "python",
      "display_name": "Python 3"
    },
    "nteract": {
      "version": "0.14.4"
    }
  },
  "nbformat": 4,
  "nbformat_minor": 0
}