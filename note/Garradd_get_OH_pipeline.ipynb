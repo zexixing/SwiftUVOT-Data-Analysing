{
  "cells": [
    {
      "cell_type": "code",
      "source": [
        "%run __init__.py\n",
        "import numpy as np\n",
        "import pandas as pd\n",
        "import matplotlib.pyplot as plt\n",
        "from astropy.io import fits\n",
        "from itertools import combinations\n",
        "from tools import *\n",
        "from before_stack import *\n",
        "from conversion import *\n",
        "from aper_phot import *\n",
        "from cr_to_flux import *\n",
        "date='111223'"
      ],
      "outputs": [],
      "execution_count": 2,
      "metadata": {
        "collapsed": false,
        "outputHidden": false,
        "inputHidden": false
      }
    },
    {
      "cell_type": "code",
      "source": [
        "#untar_obs(folder_name)\n",
        "'''\n",
        "make_obs_log(horizon_id=90003890,\n",
        "             folder_name='Garradd_raw_all',\n",
        "             map_type='sk',\n",
        "             output_name='all_obs-log_Garradd.txt')\n",
        "'''"
      ],
      "outputs": [
        {
          "output_type": "execute_result",
          "execution_count": 34,
          "data": {
            "text/plain": [
              "\"\\nmake_obs_log(horizon_id=90003890,\\n             folder_name='Garradd_raw_all',\\n             map_type='sk',\\n             output_name='all_obs-log_Garradd.txt')\\n\""
            ]
          },
          "metadata": {}
        }
      ],
      "execution_count": 34,
      "metadata": {
        "collapsed": false,
        "outputHidden": false,
        "inputHidden": false
      }
    },
    {
      "cell_type": "code",
      "source": [
        "# stack image\n",
        "'''\n",
        "dates = ['110423','110430','111028','111031',\n",
        "         '111220','111223','120301','120304',\n",
        "         '120401']\n",
        "for d in dates:\n",
        "    obs_log_name = d+'_obs-log_Garradd.txt'\n",
        "    size=(1000,1000)\n",
        "    output_name = d+'_Garradd'\n",
        "    for filt in ['uvv', 'uw1']:\n",
        "        stack_image(obs_log_name,filt,size,output_name)\n",
        "'''"
      ],
      "outputs": [
        {
          "output_type": "execute_result",
          "execution_count": 35,
          "data": {
            "text/plain": [
              "\"\\ndates = ['110423','110430','111028','111031',\\n         '111220','111223','120301','120304',\\n         '120401']\\nfor d in dates:\\n    obs_log_name = d+'_obs-log_Garradd.txt'\\n    size=(1000,1000)\\n    output_name = d+'_Garradd'\\n    for filt in ['uvv', 'uw1']:\\n        stack_image(obs_log_name,filt,size,output_name)\\n\""
            ]
          },
          "metadata": {}
        }
      ],
      "execution_count": 35,
      "metadata": {
        "collapsed": false,
        "outputHidden": false,
        "inputHidden": false
      }
    },
    {
      "cell_type": "code",
      "source": [
        "# aperture photometry\n",
        "# src_method = 'count', 'median'\n",
        "# bg_method = 'circle_mean', 'circle_median', 'donut_mean', 'donut_median', 'multi_mean'\n",
        "src_step_num = 10\n",
        "# uw1\n",
        "img_name_uw1 = date+'_Garradd_uw1.fits'\n",
        "src_center_uw1 = (1000, 1000)\n",
        "src_r_uw1 = 50\n",
        "bg_center_uw1 = (716, 1473)\n",
        "bg_r_uw1 = 100\n",
        "    \n",
        "result_uw1 = aper_phot(img_name_uw1, 'uw1', \n",
        "                       src_center_uw1, src_r_uw1, \n",
        "                       bg_center_uw1, bg_r_uw1,\n",
        "                       'median', 'single_mean',\n",
        "                       src_step_num)\n",
        "\n",
        "cr_uw1, cr_uw1_err = result_uw1[0]\n",
        "snr_uw1 = result_uw1[1]\n",
        "mag_uw1, mag_uw1_err = result_uw1[2]\n",
        "bg_cr_uw1, bg_cr_uw1_err = result_uw1[3]\n",
        "\n",
        "print('UW1:\\n'\n",
        "      +'COUNT RATE (cts/s): '+str(cr_uw1)+' +/- '+str(cr_uw1_err)+'\\n'\n",
        "      +'SNR: '+str(snr_uw1)+'\\n'\n",
        "      +'MAGNITUDE (mag): '+str(mag_uw1)+' +/- '+str(mag_uw1_err)+'\\n'\n",
        "      +'BACKGROUND CR (cts/s/arcsec2): '+str(bg_cr_uw1)+' +/- '+str(bg_cr_uw1_err)+'\\n')\n",
        "\n",
        "# v\n",
        "img_name_v = date+'_Garradd_uvv.fits'\n",
        "src_center_v = (1000,1000)\n",
        "src_r_v = 35.0\n",
        "bg_center_v = (716, 1473)\n",
        "bg_r_v = 100\n",
        "\n",
        "result_v = aper_phot(img_name_v, 'v',\n",
        "                     src_center_v, src_r_v, \n",
        "                     bg_center_v, bg_r_v,\n",
        "                     'median', 'single_mean',\n",
        "                     src_step_num)\n",
        "\n",
        "cr_v, cr_v_err = result_v[0]\n",
        "snr_v = result_v[1]\n",
        "mag_v, mag_v_err = result_v[2]\n",
        "bg_cr_v, bg_cr_v_err = result_v[3]\n",
        "\n",
        "print('V:\\n'\n",
        "      +'COUNT RATE (cts/s): '+str(cr_v)+' +/- '+str(cr_v_err)+'\\n'\n",
        "      +'SNR: '+str(snr_v)+'\\n'\n",
        "      +'MAGNITUDE (mag): '+str(mag_v)+' +/- '+str(mag_v_err)+'\\n'\n",
        "      +'BACKGROUND CR (cts/s/arcsec2): '+str(bg_cr_v)+' +/- '+str(bg_cr_v_err)+'\\n')\n"
      ],
      "outputs": [
        {
          "output_type": "stream",
          "name": "stdout",
          "text": [
            "UW1:\n",
            "COUNT RATE (cts/s): 536.0890037622898 +/- 1.0775328686248005\n",
            "SNR: 497.51522145813755\n",
            "MAGNITUDE (mag): 10.666907752288985 +/- 0.0300792704356002\n",
            "BACKGROUND CR (cts/s/arcsec2): 0.0036251413310045204 +/- 1.532399921780271e-05\n",
            "\n",
            "V:\n",
            "COUNT RATE (cts/s): 1258.364110881235 +/- 1.3496855036922946\n",
            "SNR: 932.3387614661087\n",
            "MAGNITUDE (mag): 10.14048419121245 +/- 0.013052054607936453\n",
            "BACKGROUND CR (cts/s/arcsec2): 0.03350393421396979 +/- 3.723478611691124e-05\n",
            "\n"
          ]
        }
      ],
      "execution_count": 3,
      "metadata": {
        "collapsed": false,
        "outputHidden": false,
        "inputHidden": false
      }
    },
    {
      "cell_type": "code",
      "source": [
        "# calculate OH\n",
        "spec_name_sun = 'sun_1A.txt'\n",
        "spec_name_OH = '2019-07-15_emission_models_OH.txt'\n",
        "spec_name_sum = 'cont_emis_sum.txt'\n",
        "\n",
        "# method = 'cr', 'flux_cf', 'flux_my_cf', 'flux_cr'\n",
        "flux, flux_err = get_OH('flux_cr',\n",
        "                        spec_name_sun, \n",
        "                        spec_name_OH, spec_name_sum,\n",
        "                        cr_uw1, cr_uw1_err,\n",
        "                        cr_v, cr_v_err,\n",
        "                        0)\n",
        "print('flux of OH: '+str(flux)+' +/- '+str(flux_err))\n"
      ],
      "outputs": [
        {
          "output_type": "stream",
          "name": "stdout",
          "text": [
            "flux of uw1 (reflection): 1.1204306348023206e-09 +/- 1.2017419859713184e-12\n",
            "flux of v: 3.039160245383842e-10 +/- 3.259716715633213e-13\n",
            "flux of OH: 5.347229511850492e-10 +/- 1.383195362633645e-12\n"
          ]
        }
      ],
      "execution_count": 13,
      "metadata": {
        "collapsed": false,
        "outputHidden": false,
        "inputHidden": false
      }
    },
    {
      "cell_type": "code",
      "source": [
        "obs_log_name = date+'_obs-log_Garradd.txt'\n",
        "wvm_name = 'Garradd_wvm.txt'\n",
        "\n",
        "num, num_err = flux2num(flux, flux_err, \n",
        "                        'fluorescenceOH.txt', \n",
        "                        obs_log_name, \n",
        "                        method='both_ends', \n",
        "                        horizon_id=90003890)\n",
        "print('number of molecules: '\n",
        "      + str(num) + ' +/- ' + str(num_err))\n",
        "\n",
        "q, q_err = num2q(num, num_err, \n",
        "                 wvm_name, aperture=False)\n",
        "print('production rate (mole s-1): '\n",
        "      + str(q) + ' +/- ' + str(q_err))"
      ],
      "outputs": [
        {
          "output_type": "stream",
          "name": "stdout",
          "text": [
            "mid-time r: 1.550538777911 (AU)\n",
            "mid-time rv: 0.0359673 (km/s)\n",
            "mid-time delta: 2.00917071257321 (AU)\n",
            "mid-time g factor (for 3 total lines): 8.082583551408248e-16 (erg s-1 mole-1)\n",
            "number of molecules: 7.5105715584079e+33 +/- 1.9427981775038528e+31\n",
            "production rate (mole s-1): 2.3564029266974955e+29 +/- 6.095428657926391e+26\n"
          ]
        }
      ],
      "execution_count": 14,
      "metadata": {
        "collapsed": false,
        "outputHidden": false,
        "inputHidden": false
      }
    },
    {
      "cell_type": "code",
      "source": [
        "# Effective visual bond albedo = 0.05\n",
        "# Effective thermal albedo = 1\n",
        "z = 1.710E+17\n",
        "active_area = q/z\n",
        "active_area_err = q_err/z\n",
        "r = np.sqrt(active_area/(4*np.pi))\n",
        "r_err = active_area_err/(4*np.sqrt(np.pi*active_area))\n",
        "\n",
        "print('active area(km2): '+str(active_area/1e10)+' +/- '+str(active_area_err/1e10))\n",
        "print('radiu(km): '+str(r/1e5)+' +/- '+str(r_err/1e5))"
      ],
      "outputs": [
        {
          "output_type": "stream",
          "name": "stdout",
          "text": [
            "active area(km2): 137.8013407425436 +/- 0.3564578162530053\n",
            "radiu(km): 3.3114773548875736 +/- 0.004282984403975671\n"
          ]
        }
      ],
      "execution_count": 6,
      "metadata": {
        "collapsed": false,
        "outputHidden": false,
        "inputHidden": false
      }
    },
    {
      "cell_type": "code",
      "source": [
        "def q_from_v(v, v_err):\n",
        "    log_q = 30.675 - 0.2453*v\n",
        "    log_q_err_0 = error_prop('mul', \n",
        "                             0.2453, 0.0013,\n",
        "                             v, v_err)\n",
        "    log_q_err = error_prop('sub',\n",
        "                           30.675, 0.007,\n",
        "                           0.2453*v, log_q_err_0)\n",
        "    q = np.power(10, log_q)\n",
        "    q_err = np.power(10, log_q)*np.log(10.)*log_q_err\n",
        "    return q, q_err\n",
        "\n",
        "q_from_v(result_v[2][0], result_v[2][1])"
      ],
      "outputs": [
        {
          "output_type": "execute_result",
          "execution_count": 7,
          "data": {
            "text/plain": [
              "(1.5400656270791308e+28, 5.413312189552395e+26)"
            ]
          },
          "metadata": {}
        }
      ],
      "execution_count": 7,
      "metadata": {
        "collapsed": false,
        "outputHidden": false,
        "inputHidden": false
      }
    },
    {
      "cell_type": "code",
      "source": [
        "spec_name_sun = 'sun_1A.txt'\n",
        "spec_name_OH = '2019-07-15_emission_models_OH.txt'\n",
        "r = 0\n",
        "\n",
        "ea_wave_uw1 = read_ea('uw1')[0]\n",
        "ea_area_uw1 = read_ea('uw1')[1]\n",
        "ea_wave_uw1 = ea_wave_uw1[ea_area_uw1!=0]\n",
        "ea_area_uw1 = ea_area_uw1[ea_area_uw1!=0]\n",
        "wave_uw1_min = 1600 #min(ea_wave_uw1)\n",
        "wave_uw1_max = 4900 #max(ea_wave_uw1)\n",
        "\n",
        "ea_wave_v = read_ea('v')[0]\n",
        "ea_area_v = read_ea('v')[1]\n",
        "ea_wave_v = ea_wave_v[ea_area_v!=0]\n",
        "ea_area_v = ea_area_v[ea_area_v!=0]\n",
        "wave_v_min = 4900 #min(ea_wave_v)\n",
        "wave_v_max = 6000 #max(ea_wave_v)\n",
        "\n",
        "wave_sum_min = 2500\n",
        "wave_sum_max = 3500\n",
        "\n",
        "factors = flux_cr_spec(spec_name_sun, spec_name_OH,\n",
        "                       cr_uw1, cr_uw1_err, \n",
        "                       cr_v, cr_v_err, r)\n",
        "factor_sun_uw1 = factors[0]\n",
        "factor_sun_uw1_err = factors[1]\n",
        "factor_sun_v = factors[2]\n",
        "factor_sun_v_err = factors[3]\n",
        "factor_OH = factors[4]\n",
        "factor_OH_err = factors[5]\n",
        "\n",
        "sun_wave, sun_flux = read_spec(spec_name_sun)\n",
        "oh_wave, oh_flux = read_spec(spec_name_OH)\n",
        "sun_flux_uw1 = sun_flux[sun_wave>wave_uw1_min]\n",
        "sun_wave_uw1 = sun_wave[sun_wave>wave_uw1_min]\n",
        "sun_flux_uw1 = sun_flux_uw1[sun_wave_uw1<wave_uw1_max]\n",
        "sun_wave_uw1 = sun_wave_uw1[sun_wave_uw1<wave_uw1_max]\n",
        "sun_flux_v = sun_flux[sun_wave>wave_v_min]\n",
        "sun_wave_v = sun_wave[sun_wave>wave_v_min]\n",
        "sun_flux_v = sun_flux_v[sun_wave_v<wave_v_max]\n",
        "sun_wave_v = sun_wave_v[sun_wave_v<wave_v_max]\n",
        "\n",
        "ref_flux_uw1 = factor_sun_uw1*sun_flux_uw1\n",
        "ref_flux_uw1_err = factor_sun_uw1_err*sun_flux_uw1\n",
        "ref_flux_v = factor_sun_v*sun_flux_v\n",
        "ref_flux_v_err = factor_sun_v_err*sun_flux_v\n",
        "oh_flux = factor_OH*oh_flux\n",
        "oh_flux_err = factor_OH_err*oh_flux\n",
        "sum_wave, sum_flux, sum_flux_err = sum_spec(\\\n",
        "    spec_name_OH, factor_OH, factor_OH_err,\n",
        "    spec_name_sun, factor_sun_uw1, factor_sun_uw1_err)\n",
        "sum_flux = sum_flux[sum_wave>wave_sum_min]\n",
        "sum_flux_err = sum_flux_err[sum_wave>wave_sum_min]\n",
        "sum_wave = sum_wave[sum_wave>wave_sum_min]\n",
        "sum_flux = sum_flux[sum_wave<wave_sum_max]\n",
        "sum_flux_err = sum_flux_err[sum_wave<wave_sum_max]\n",
        "sum_wave = sum_wave[sum_wave<wave_sum_max]\n",
        "\n",
        "if r==0:\n",
        "    ref_color = 'orange'\n",
        "else:\n",
        "    ref_color = 'red'\n",
        "fig = plt.figure()\n",
        "ax = fig.add_subplot(1, 1, 1)\n",
        "plt.plot(sun_wave_uw1, ref_flux_uw1, ref_color,linestyle='-')\n",
        "plt.fill_between(sun_wave_uw1, ref_flux_uw1-ref_flux_uw1_err, ref_flux_uw1+ref_flux_uw1_err, color=ref_color, alpha=0.5)\n",
        "plt.plot(sun_wave_v, ref_flux_v, ref_color,linestyle='-')\n",
        "plt.fill_between(sun_wave_v, ref_flux_v-ref_flux_v_err, ref_flux_v+ref_flux_v_err, color=ref_color, alpha=0.5)\n",
        "plt.plot(oh_wave, oh_flux, 'g-')\n",
        "plt.fill_between(oh_wave, oh_flux-oh_flux_err, oh_flux+oh_flux_err)\n",
        "plt.plot(sum_wave, sum_flux, 'b-')\n",
        "plt.fill_between(sum_wave, sum_flux-sum_flux_err, sum_flux+sum_flux_err, color='blue',alpha=0.3)\n",
        "plt.plot(ea_wave_uw1, 6e-15*ea_area_uw1/max(ea_area_uw1), 'k--')\n",
        "plt.plot(ea_wave_v, 6e-15*ea_area_v/max(ea_area_v), 'k--')\n",
        "plt.plot((4900, 4900), (0,1), 'k-', alpha=0.5, linewidth=0.5)\n",
        "plt.xlim(1600, 6000)\n",
        "plt.ylim(1e-18, 1e-10)\n",
        "plt.yscale('log')\n",
        "plt.xlabel('wavelength (A)')\n",
        "plt.ylabel('flux density (erg s-1 cm-2 A-1)')\n",
        "plt.show()"
      ],
      "outputs": [
        {
          "output_type": "display_data",
          "data": {
            "text/plain": [
              "<Figure size 432x288 with 1 Axes>"
            ],
            "image/png": "[encoded data removed]"
          },
          "metadata": {
            "needs_background": "light"
          }
        }
      ],
      "execution_count": 7,
      "metadata": {
        "collapsed": false,
        "outputHidden": false,
        "inputHidden": false
      }
    }
  ],
  "metadata": {
    "kernel_info": {
      "name": "python3"
    },
    "language_info": {
      "name": "python",
      "version": "3.7.4",
      "mimetype": "text/x-python",
      "codemirror_mode": {
        "name": "ipython",
        "version": 3
      },
      "pygments_lexer": "ipython3",
      "nbconvert_exporter": "python",
      "file_extension": ".py"
    },
    "kernelspec": {
      "name": "python3",
      "language": "python",
      "display_name": "Python 3"
    },
    "nteract": {
      "version": "0.15.0"
    }
  },
  "nbformat": 4,
  "nbformat_minor": 0
}