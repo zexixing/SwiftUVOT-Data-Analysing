{
  "cells": [
    {
      "cell_type": "code",
      "source": [
        "from astropy.io import fits\n",
        "from astropy.time import Time\n",
        "from scipy.ndimage import rotate\n",
        "from _mypath import thisdir\n",
        "import matplotlib.pyplot as plt\n",
        "import pandas as pd\n",
        "import numpy as np\n",
        "import os\n",
        "%run __init__.py"
      ],
      "outputs": [],
      "execution_count": 1,
      "metadata": {
        "collapsed": false,
        "outputHidden": false,
        "inputHidden": false
      }
    },
    {
      "cell_type": "code",
      "source": [
        "def set_coord(image_array, target_index,\n",
        "              size):\n",
        "    \"\"\"To shift a target on an image \n",
        "    into the center of a new image;\n",
        "    \n",
        "    The size of the new image can be given \n",
        "    but have to ensure the whole original\n",
        "    image is included in the new one.\n",
        "    \n",
        "    Inputs: array of an original image, 2D array\n",
        "            original coordinate values of the target, array shape in [r, c]\n",
        "            output size, tuple of 2 elements\n",
        "    Outputs: array of the shifted image in the new coordinate, 2D array\n",
        "    \"\"\"\n",
        "    # interpret the size and create new image\n",
        "    try:\n",
        "        half_row, half_col = size\n",
        "    except:\n",
        "        print(\"Check the given image size!\")\n",
        "    new_coord = np.zeros((2*half_row - 1, \n",
        "                          2*half_col - 1))\n",
        "    # shift the image, [target] -> [center]\n",
        "    def shift_r(r):\n",
        "        return int(r+(half_row-1- target_index[0]))\n",
        "    def shift_c(c):\n",
        "        return int(c+(half_col-1- target_index[1]))\n",
        "    for r in range(image_array.shape[0]):\n",
        "        for c in range(image_array.shape[1]):\n",
        "            new_coord[shift_r(r), \n",
        "                      shift_c(c)] = image_array[r, c]\n",
        "    # reture new image\n",
        "    return new_coord"
      ],
      "outputs": [],
      "execution_count": 168,
      "metadata": {
        "collapsed": false,
        "outputHidden": false,
        "inputHidden": false
      }
    },
    {
      "cell_type": "code",
      "source": [
        "#### Here is an example of set_coord() and rotate()\n",
        "# create an orignal array\n",
        "image_array_test = np.array([[1 ,5, 6, 1],\n",
        "                             [2, 9, 0, 6],\n",
        "                             [7, 7, 5, 4]])\n",
        "target_index_test = np.array([0, 0]) #get target index\n",
        "new_coord_test = set_coord(image_array_test, target_index_test, (5, 5)) # shift the original array\n",
        "rotated_image_test = rotate(new_coord_test, angle=40., reshape=False, order=1) # rotate the shifted array\n",
        "rotated_image_test = np.around(rotated_image_test, decimals=2) # simplify the output\n",
        "print(\"original image array:\")\n",
        "print(image_array_test)\n",
        "print(\"\\ntarget index:\")\n",
        "print(target_index_test)\n",
        "print(\"\\nshift the target to the center:\")\n",
        "print(new_coord_test)\n",
        "print(\"\\nrotate the image for 40 deg:\")\n",
        "print(rotated_image_test)"
      ],
      "outputs": [
        {
          "output_type": "stream",
          "name": "stdout",
          "text": [
            "original image array:\n",
            "[[1 5 6 1]\n",
            " [2 9 0 6]\n",
            " [7 7 5 4]]\n",
            "\n",
            "target index:\n",
            "[0 0]\n",
            "\n",
            "shift the target to the center:\n",
            "[[0. 0. 0. 0. 0. 0. 0. 0. 0.]\n",
            " [0. 0. 0. 0. 0. 0. 0. 0. 0.]\n",
            " [0. 0. 0. 0. 0. 0. 0. 0. 0.]\n",
            " [0. 0. 0. 0. 0. 0. 0. 0. 0.]\n",
            " [0. 0. 0. 0. 1. 5. 6. 1. 0.]\n",
            " [0. 0. 0. 0. 2. 9. 0. 6. 0.]\n",
            " [0. 0. 0. 0. 7. 7. 5. 4. 0.]\n",
            " [0. 0. 0. 0. 0. 0. 0. 0. 0.]\n",
            " [0. 0. 0. 0. 0. 0. 0. 0. 0.]]\n",
            "\n",
            "rotate the image for 40 deg:\n",
            "[[0.   0.   0.   0.   0.   0.   0.   0.   0.  ]\n",
            " [0.   0.   0.   0.   0.   0.   0.   0.   0.  ]\n",
            " [0.   0.   0.   0.   0.   0.64 1.44 1.24 0.  ]\n",
            " [0.   0.   0.   0.   0.84 4.74 3.01 5.39 1.29]\n",
            " [0.   0.   0.   0.08 1.   6.18 4.7  4.49 1.61]\n",
            " [0.   0.   0.   0.   0.63 4.55 6.64 1.74 0.  ]\n",
            " [0.   0.   0.   0.   0.   2.78 1.28 0.   0.  ]\n",
            " [0.   0.   0.   0.   0.   0.   0.   0.   0.  ]\n",
            " [0.   0.   0.   0.   0.   0.   0.   0.   0.  ]]\n"
          ]
        }
      ],
      "execution_count": 169,
      "metadata": {
        "collapsed": false,
        "outputHidden": false,
        "inputHidden": false
      }
    },
    {
      "cell_type": "code",
      "source": [
        "def stack_image(obs_log_name, filt, size, ouput_name):\n",
        "    '''sum obs images according to 'FILTER'\n",
        "    \n",
        "    Inputs:\n",
        "    obs_log_name: the name of an obs log in docs/\n",
        "    filt: 'uvv' or 'uw1' or 'uw2'\n",
        "    size: a tuple\n",
        "    output_name: string, to be saved in docs/\n",
        "    \n",
        "    Outputs:\n",
        "    1) a txt data file saved in docs/\n",
        "    2) a fits file saved in docs/\n",
        "    '''\n",
        "    # load obs_log in DataFrame according to filt\n",
        "    obs_log_path = get_path('../docs/'+obs_log_name)\n",
        "    img_set = pd.read_csv(obs_log_path, sep=' ',\n",
        "                          index_col=['FILTER'])\n",
        "    img_set = img_set[['OBS_ID', 'EXTENSION',\n",
        "                       'PX', 'PY', 'PA', 'EXP_TIME',\n",
        "                       'END', 'START']]\n",
        "    if filt == 'uvv':\n",
        "        img_set = img_set.loc['V']\n",
        "    elif filt == 'uw1':\n",
        "        img_set = img_set.loc['UVW1']\n",
        "    elif filt == 'uw2':\n",
        "        img_set = img_set.loc['UVW2']\n",
        "    #---transfer OBS_ID from int to string---\n",
        "    img_set['OBS_ID']=img_set['OBS_ID'].astype(str)\n",
        "    img_set['OBS_ID']='000'+img_set['OBS_ID']\n",
        "    # create a blank canvas in new coordinate\n",
        "    stacked_img = np.zeros((2*size[0] -1,\n",
        "                            2*size[1] -1))\n",
        "    # loop among the data set, for every image, shift it to center the target, rotate and add to the blank canvas\n",
        "    exp = 0\n",
        "    for i in range(len(img_set)):\n",
        "        #---get data from .img.gz---\n",
        "        img_now = img_set.iloc[i]\n",
        "        img_path = get_path(img_now['OBS_ID'], \n",
        "                            filt, to_file=True)\n",
        "        img_hdu =  fits.open(img_path)[img_now['EXTENSION']]\n",
        "        img_data = img_hdu.data.T # .T! or else hdul PXY != DS9 PXY\n",
        "        #---shift the image to center the target---\n",
        "        new_img = set_coord(img_data, \n",
        "                            np.array([img_now['PX']-1,\n",
        "                                      img_now['PY']-1]),\n",
        "                            size)\n",
        "        #---rotate the image according to PA to\n",
        "        #---eliminate changes of pointing\n",
        "        #---this rotating step may be skipped---\n",
        "        #new_img = rotate(new_img, \n",
        "        #                 angle=img_now['PA'],\n",
        "        #                 reshape=False,\n",
        "        #                 order=1)\n",
        "        #---sum modified images to the blank canvas---\n",
        "        stacked_img = stacked_img + new_img\n",
        "        exp += img_now['EXP_TIME']\n",
        "    # get the summed results and save in fits file\n",
        "    ouput_path = get_path('../docs/'+ouput_name+\n",
        "                          '_'+filt+'.fits')\n",
        "    hdu = fits.PrimaryHDU(stacked_img)\n",
        "    dt = Time(img_set.iloc[-1]['END']) - Time(img_set.iloc[0]['START'])\n",
        "    mid_t = Time(img_set.iloc[0]['START']) + 1/2*dt\n",
        "    hdr = hdu.header\n",
        "    hdr['TELESCOP'] = img_hdu.header['TELESCOP']\n",
        "    hdr['INSTRUME'] = img_hdu.header['INSTRUME']\n",
        "    hdr['FILTER'] = img_hdu.header['FILTER']\n",
        "    hdr['COMET'] = '2019-09 Borisov'\n",
        "    hdr['PLATESCL'] = ('1','arcsec/pixel')\n",
        "    hdr['XPOS'] = f'{size[0]}'\n",
        "    hdr['YPOS'] = f'{size[1]}'\n",
        "    hdr['EXPTIME'] = (f'{exp}', '[seconds]')\n",
        "    hdr['MID_TIME'] = f'{mid_t}'\n",
        "    hdu.writeto(ouput_path)\n",
        "    "
      ],
      "outputs": [],
      "execution_count": 170,
      "metadata": {
        "collapsed": false,
        "outputHidden": false,
        "inputHidden": false
      }
    },
    {
      "cell_type": "code",
      "source": [
        "def plot_stack(img_name, out_name):\n",
        "    # read data from fits file\n",
        "    img_path = get_path('../docs/'+img_name+'.fits')\n",
        "    img_data = fits.open(img_path)[0].data\n",
        "    # generate title by output name automatically\n",
        "    out_path = get_path('../docs/'+out_name+'.png')\n",
        "    title_name = out_name[:-4].split('_')\n",
        "    title_name = ' '.join(title_name)\n",
        "    # plot the stacked image\n",
        "    fig = plt.figure(figsize=(30,30))\n",
        "    ax = fig.add_subplot(111)\n",
        "    plt.grid(alpha=0.3, ls='--')\n",
        "    plt.imshow(img_data, vmin=0, vmax=np.max(img_data)*0.01)\n",
        "    cbar = plt.colorbar(aspect=30, shrink=0.82)\n",
        "    cbar.ax.tick_params(labelsize=20)\n",
        "    ax.tick_params(axis='both', which='major', labelsize=20)\n",
        "    plt.title(title_name, fontsize=30)\n",
        "    plt.savefig(out_path, dpi=100)\n",
        "#    plt.show()"
      ],
      "outputs": [],
      "execution_count": 171,
      "metadata": {
        "collapsed": false,
        "outputHidden": false,
        "inputHidden": false,
        "tags": []
      }
    },
    {
      "cell_type": "code",
      "source": [
        "def compare_with_DB(my_stack, DB_stack, save_name):\n",
        "    my_path = get_path('../docs/'+my_stack)\n",
        "    DB_path = get_path('../docs/'+DB_stack)\n",
        "    save_path = get_path('../docs/'+save_name)\n",
        "    my_data = fits.open(my_path)[0].data\n",
        "    DB_data = fits.open(DB_path)[0].data.T[:1400, :1400]\n",
        "    DB_px = fits.open(DB_path)[0].header['XPOS']\n",
        "    DB_py = fits.open(DB_path)[0].header['YPOS']\n",
        "    DB_data = set_coord(DB_data, np.array([DB_px, DB_py]), (1000, 1000))\n",
        "    sub = my_data - DB_data\n",
        "    hdu = fits.PrimaryHDU(sub)\n",
        "    hdu.writeto(save_path)"
      ],
      "outputs": [],
      "execution_count": 172,
      "metadata": {
        "collapsed": false,
        "outputHidden": false,
        "inputHidden": false
      }
    },
    {
      "cell_type": "code",
      "source": [
        "name = 'stacked_img'\n",
        "filt = ('uw1', 'UVW1')\n",
        "# filt = ('uvv', 'V')\n",
        "# filt = ('uw2', 'UVW2')\n",
        "stack_image('obs-log_Borisov.txt', filt[0], (1000,1000), name)\n",
        "#plot_stack(img_name = name+'_'+filt[0], \n",
        "#           out_name = name+'_'+filt[0])\n",
        "my_stack = name+'_'+filt[0]+'.fits'\n",
        "DB_stack = 'sum_0_'+filt[1]+'.fits'\n",
        "#compare_with_DB(my_stack, DB_stack, 'stack_compare_'+filt[1]+'.fits')"
      ],
      "outputs": [],
      "execution_count": null,
      "metadata": {
        "collapsed": false,
        "outputHidden": false,
        "inputHidden": false,
        "outputExpanded": true,
        "tags": []
      }
    }
  ],
  "metadata": {
    "kernel_info": {
      "name": "python3"
    },
    "language_info": {
      "name": "python",
      "version": "3.7.4",
      "mimetype": "text/x-python",
      "codemirror_mode": {
        "name": "ipython",
        "version": 3
      },
      "pygments_lexer": "ipython3",
      "nbconvert_exporter": "python",
      "file_extension": ".py"
    },
    "kernelspec": {
      "name": "python3",
      "language": "python",
      "display_name": "Python 3"
    },
    "nteract": {
      "version": "0.14.4"
    }
  },
  "nbformat": 4,
  "nbformat_minor": 0
}