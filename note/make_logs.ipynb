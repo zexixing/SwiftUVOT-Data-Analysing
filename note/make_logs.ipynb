{
  "cells": [
    {
      "cell_type": "code",
      "source": [
        "from astropy.io import fits\n",
        "from astropy.time import Time\n",
        "from astroquery.jplhorizons import Horizons\n",
        "from _mypath import thisdir\n",
        "import numpy as np\n",
        "import os"
      ],
      "outputs": [],
      "execution_count": 1,
      "metadata": {
        "collapsed": false,
        "outputHidden": false,
        "inputHidden": false
      }
    },
    {
      "cell_type": "code",
      "source": [
        "def get_path(rela_path):\n",
        "    \"\"\"link the relative path to the path of this dir\n",
        "    to get an absolute path\n",
        "    \n",
        "    Inputs: relative path, string\n",
        "    Outputs: absolute path, string\n",
        "    \"\"\"\n",
        "    return os.path.join(thisdir, rela_path)"
      ],
      "outputs": [],
      "execution_count": 2,
      "metadata": {
        "collapsed": false,
        "outputHidden": false,
        "inputHidden": false
      }
    },
    {
      "cell_type": "code",
      "source": [
        "def make_obs_log(horizon_id,\n",
        "                 input_path, \n",
        "                 map_type, \n",
        "                 output_path):\n",
        "    \"\"\"creat an observing log file before all work,\n",
        "    to provide non-data info for every extension.\n",
        "    \n",
        "    Inputs: 1. Horizon ID of the object, string;\n",
        "            2. path of the folder containing dirs of every observation, string;\n",
        "            3. 'sk' or 'rw' or 'ex', expected to be 'sk', string;\n",
        "            4. ouput path of the newly generated obs log, string\n",
        "            \n",
        "    Outputs: No, only generate an obs log file\n",
        "    \"\"\"\n",
        "    #-----initiate a log file-----\n",
        "    f = open(output_path, 'w')\n",
        "    f.write('OBS_ID '       +\n",
        "            'EXTENSION '    +\n",
        "            'START.[UT] '   +\n",
        "            'END.[UT] '     +\n",
        "            'MIDTIME '      +\n",
        "            'EXP_TIME.[s] ' +\n",
        "            'FILTER '       +\n",
        "            'HELIO.[AU] '   +\n",
        "            'HELIOV.[km/s] '+\n",
        "            'PHASE[deg]'    +\n",
        "            '\\n')\n",
        "    #-----start a loop iterating over observations-----\n",
        "    obs_list = os.listdir(input_path)\n",
        "    obs_list.sort()\n",
        "    for obs_id in obs_list:\n",
        "        #-----find the only *sk* file for every obs-----\n",
        "        map_dir_path = os.path.join(input_path, \n",
        "                                    obs_id+'/uvot/image/')\n",
        "        map_file_list = os.listdir(map_dir_path)\n",
        "        map_file = [x for x in map_file_list \n",
        "                   if (map_type in x)]\n",
        "        if len(map_file) == 1:\n",
        "            map_file = map_file[0]\n",
        "        else:\n",
        "            break\n",
        "        map_file_path = os.path.join(map_dir_path, \n",
        "                                     map_file)\n",
        "        #-----get the num of extensions-----\n",
        "        #-----start a loop interating over extensions----\n",
        "        hdul = fits.open(map_file_path)\n",
        "        ext_num = len(hdul) - 1\n",
        "        for ext_id in range(1, 1 + ext_num):\n",
        "            #-----read observing info from header of every extension-----\n",
        "            #-----and put the info into the log file-----\n",
        "            ext_header = hdul[ext_id].header\n",
        "            start_time = Time(ext_header['DATE-OBS'])\n",
        "            end_time   = Time(ext_header['DATE-END'])\n",
        "            exp_time   = ext_header['TELAPSE']\n",
        "            dt         = end_time - start_time\n",
        "            mid_time   = start_time + 1/2*dt\n",
        "            filt       = ext_header['FILTER']\n",
        "            f.write(  obs_id                + ' '\n",
        "                    + f'{int(ext_id)}'      + ' '\n",
        "                    + f'{start_time.value}' + ' '\n",
        "                    + f'{end_time.value}'   + ' '\n",
        "                    + f'{mid_time.value}'   + ' '\n",
        "                    + f'{exp_time}'         + ' '\n",
        "                    + filt                  + ' ')\n",
        "            #-----read ephmerides info from Horizon API-----\n",
        "            #-----and put the info into the log file-----\n",
        "            obj = Horizons(id=horizon_id,  \n",
        "                           epochs=mid_time.jd)\n",
        "            eph = obj.ephemerides()[0]\n",
        "            helio = eph['r']\n",
        "            heliov = eph['r_rate']\n",
        "            phase = eph['alpha']\n",
        "            f.write(  f'{helio}'            + ' '\n",
        "                    + f'{heliov}'           + ' '\n",
        "                    + f'{phase}'            + '\\n')\n",
        "    f.close()\n",
        "            "
      ],
      "outputs": [],
      "execution_count": 3,
      "metadata": {
        "collapsed": false,
        "outputHidden": false,
        "inputHidden": false
      }
    },
    {
      "cell_type": "code",
      "source": [
        "#-----Borisov observed by Swift UVOT in Sep 2019-----\n",
        "horizon_id  = 90004423\n",
        "input_rela  = '../data/Borisov_raw/'\n",
        "input_path  = get_path(input_rela)\n",
        "map_type    = 'sk'\n",
        "output_rela = '../docs/obs-log_Borisov_ZX.txt'\n",
        "output_path = get_path(output_rela)\n",
        "\n",
        "make_obs_log(horizon_id,\n",
        "             input_path,\n",
        "             map_type,\n",
        "             output_path)"
      ],
      "outputs": [],
      "execution_count": 4,
      "metadata": {
        "collapsed": false,
        "outputHidden": false,
        "inputHidden": false
      }
    }
  ],
  "metadata": {
    "kernel_info": {
      "name": "python3"
    },
    "language_info": {
      "name": "python",
      "version": "3.7.4",
      "mimetype": "text/x-python",
      "codemirror_mode": {
        "name": "ipython",
        "version": 3
      },
      "pygments_lexer": "ipython3",
      "nbconvert_exporter": "python",
      "file_extension": ".py"
    },
    "kernelspec": {
      "name": "python3",
      "language": "python",
      "display_name": "Python 3"
    },
    "nteract": {
      "version": "0.14.4"
    }
  },
  "nbformat": 4,
  "nbformat_minor": 0
}