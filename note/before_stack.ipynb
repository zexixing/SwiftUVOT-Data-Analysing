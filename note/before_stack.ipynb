{
  "cells": [
    {
      "cell_type": "code",
      "source": [
        "%run __init__.py\n",
        "from astropy.io import fits\n",
        "from astropy.time import Time\n",
        "from astropy.wcs import WCS\n",
        "from astroquery.jplhorizons import Horizons\n",
        "from scipy.ndimage import rotate\n",
        "#from before_stack import *\n",
        "from tools import *\n",
        "from _mypath import thisdir\n",
        "import matplotlib.pyplot as plt\n",
        "import pandas as pd\n",
        "import numpy as np\n",
        "import os"
      ],
      "outputs": [],
      "execution_count": 4,
      "metadata": {
        "collapsed": false,
        "outputHidden": false,
        "inputHidden": false
      }
    },
    {
      "cell_type": "code",
      "source": [
        "# Borisov observed by Swift UVOT in Sep 2019\n",
        "horizon_id  = 90004423\n",
        "input_rela  = '../data/Borisov_raw/'\n",
        "input_path  = get_path(input_rela)\n",
        "map_type    = 'sk'\n",
        "output_rela = '../docs/obs-log_Borisov_ZX.txt'\n",
        "output_path = get_path(output_rela)\n",
        "\n",
        "make_obs_log(horizon_id,\n",
        "             input_path,\n",
        "             map_type,\n",
        "             output_path)"
      ],
      "outputs": [],
      "execution_count": null,
      "metadata": {
        "collapsed": false,
        "outputHidden": false,
        "inputHidden": false
      }
    },
    {
      "cell_type": "code",
      "source": [
        "#### Here is an example of set_coord() and rotate()\n",
        "# create an orignal array\n",
        "image_array_test = np.array([[1 ,5, 6, 1],\n",
        "                             [2, 9, 0, 6],\n",
        "                             [7, 7, 5, 4]])\n",
        "target_index_test = np.array([0, 0]) #get target index\n",
        "new_coord_test = set_coord(image_array_test, target_index_test, (5, 5)) # shift the original array\n",
        "rotated_image_test = rotate(new_coord_test, angle=40., reshape=False, order=1) # rotate the shifted array\n",
        "rotated_image_test = np.around(rotated_image_test, decimals=2) # simplify the output\n",
        "print(\"original image array:\")\n",
        "print(image_array_test)\n",
        "print(\"\\ntarget index:\")\n",
        "print(target_index_test)\n",
        "print(\"\\nshift the target to the center:\")\n",
        "print(new_coord_test)\n",
        "print(\"\\nrotate the image for 40 deg:\")\n",
        "print(rotated_image_test)"
      ],
      "outputs": [
        {
          "output_type": "stream",
          "name": "stdout",
          "text": [
            "original image array:\n",
            "[[1 5 6 1]\n",
            " [2 9 0 6]\n",
            " [7 7 5 4]]\n",
            "\n",
            "target index:\n",
            "[0 0]\n",
            "\n",
            "shift the target to the center:\n",
            "[[0. 0. 0. 0. 0. 0. 0. 0. 0.]\n",
            " [0. 0. 0. 0. 0. 0. 0. 0. 0.]\n",
            " [0. 0. 0. 0. 0. 0. 0. 0. 0.]\n",
            " [0. 0. 0. 0. 0. 0. 0. 0. 0.]\n",
            " [0. 0. 0. 0. 1. 5. 6. 1. 0.]\n",
            " [0. 0. 0. 0. 2. 9. 0. 6. 0.]\n",
            " [0. 0. 0. 0. 7. 7. 5. 4. 0.]\n",
            " [0. 0. 0. 0. 0. 0. 0. 0. 0.]\n",
            " [0. 0. 0. 0. 0. 0. 0. 0. 0.]]\n",
            "\n",
            "rotate the image for 40 deg:\n",
            "[[0.   0.   0.   0.   0.   0.   0.   0.   0.  ]\n",
            " [0.   0.   0.   0.   0.   0.   0.   0.   0.  ]\n",
            " [0.   0.   0.   0.   0.   0.64 1.44 1.24 0.  ]\n",
            " [0.   0.   0.   0.   0.84 4.74 3.01 5.39 1.29]\n",
            " [0.   0.   0.   0.08 1.   6.18 4.7  4.49 1.61]\n",
            " [0.   0.   0.   0.   0.63 4.55 6.64 1.74 0.  ]\n",
            " [0.   0.   0.   0.   0.   2.78 1.28 0.   0.  ]\n",
            " [0.   0.   0.   0.   0.   0.   0.   0.   0.  ]\n",
            " [0.   0.   0.   0.   0.   0.   0.   0.   0.  ]]\n"
          ]
        }
      ],
      "execution_count": 169,
      "metadata": {
        "collapsed": false,
        "outputHidden": false,
        "inputHidden": false
      }
    },
    {
      "cell_type": "code",
      "source": [
        "def plot_stack(img_name, out_name):\n",
        "    # read data from fits file\n",
        "    img_path = get_path('../docs/'+img_name+'.fits')\n",
        "    img_data = fits.open(img_path)[0].data\n",
        "    # generate title by output name automatically\n",
        "    out_path = get_path('../docs/'+out_name+'.png')\n",
        "    title_name = out_name[:-4].split('_')\n",
        "    title_name = ' '.join(title_name)\n",
        "    # plot the stacked image\n",
        "    fig = plt.figure(figsize=(30,30))\n",
        "    ax = fig.add_subplot(111)\n",
        "    plt.grid(alpha=0.3, ls='--')\n",
        "    plt.imshow(img_data, vmin=0, vmax=np.max(img_data)*0.01)\n",
        "    cbar = plt.colorbar(aspect=30, shrink=0.82)\n",
        "    cbar.ax.tick_params(labelsize=20)\n",
        "    ax.tick_params(axis='both', which='major', labelsize=20)\n",
        "    plt.title(title_name, fontsize=30)\n",
        "    plt.savefig(out_path, dpi=100)\n",
        "#    plt.show()"
      ],
      "outputs": [],
      "execution_count": 171,
      "metadata": {
        "collapsed": false,
        "outputHidden": false,
        "inputHidden": false,
        "tags": []
      }
    },
    {
      "cell_type": "code",
      "source": [
        "def compare_with_DB(my_stack, DB_stack, save_name):\n",
        "    my_path = get_path('../docs/'+my_stack)\n",
        "    DB_path = get_path('../docs/'+DB_stack)\n",
        "    save_path = get_path('../docs/'+save_name)\n",
        "    my_data = fits.open(my_path)[0].data\n",
        "    DB_data = fits.open(DB_path)[0].data.T[:1400, :1400]\n",
        "    DB_px = fits.open(DB_path)[0].header['XPOS']\n",
        "    DB_py = fits.open(DB_path)[0].header['YPOS']\n",
        "    DB_data = set_coord(DB_data, np.array([DB_px, DB_py]), (1000, 1000))\n",
        "    sub = my_data - DB_data\n",
        "    hdu = fits.PrimaryHDU(sub)\n",
        "    hdu.writeto(save_path)"
      ],
      "outputs": [],
      "execution_count": 172,
      "metadata": {
        "collapsed": false,
        "outputHidden": false,
        "inputHidden": false
      }
    },
    {
      "cell_type": "code",
      "source": [
        "name = 'stacked_img'\n",
        "filt = ('uw1', 'UVW1')\n",
        "# filt = ('uvv', 'V')\n",
        "# filt = ('uw2', 'UVW2')\n",
        "stack_image('obs-log_Borisov.txt', filt[0], (1000,1000), name)\n",
        "#plot_stack(img_name = name+'_'+filt[0], \n",
        "#           out_name = name+'_'+filt[0])\n",
        "my_stack = name+'_'+filt[0]+'.fits'\n",
        "DB_stack = 'sum_0_'+filt[1]+'.fits'\n",
        "#compare_with_DB(my_stack, DB_stack, 'stack_compare_'+filt[1]+'.fits')"
      ],
      "outputs": [],
      "execution_count": null,
      "metadata": {
        "collapsed": false,
        "outputHidden": false,
        "inputHidden": false,
        "outputExpanded": true,
        "tags": []
      }
    }
  ],
  "metadata": {
    "kernel_info": {
      "name": "python3"
    },
    "language_info": {
      "name": "python",
      "version": "3.7.4",
      "mimetype": "text/x-python",
      "codemirror_mode": {
        "name": "ipython",
        "version": 3
      },
      "pygments_lexer": "ipython3",
      "nbconvert_exporter": "python",
      "file_extension": ".py"
    },
    "kernelspec": {
      "name": "python3",
      "language": "python",
      "display_name": "Python 3"
    },
    "nteract": {
      "version": "0.14.4"
    }
  },
  "nbformat": 4,
  "nbformat_minor": 0
}