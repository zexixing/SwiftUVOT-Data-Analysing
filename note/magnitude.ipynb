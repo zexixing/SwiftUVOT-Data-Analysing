{
  "cells": [
    {
      "cell_type": "code",
      "source": [
        "%run __init__.py\n",
        "import numpy as np\n",
        "from astropy.io import fits\n",
        "from magnitude import *"
      ],
      "outputs": [],
      "execution_count": 3,
      "metadata": {
        "collapsed": false,
        "outputHidden": false,
        "inputHidden": false
      }
    },
    {
      "cell_type": "code",
      "source": [
        "def print_aper_phot(method, filt):\n",
        "    if filt == 'uw1':\n",
        "        src_count = 53894.58\n",
        "        src_count_err = 232.152\n",
        "        src_pixel = 1364\n",
        "        exposure = 8204.588239698116\n",
        "        if method == 'annulus':\n",
        "            bg_bri = 38.2686\n",
        "            bg_bri_err = 0.070691\n",
        "        elif method == 'single':\n",
        "            bg_bri = 38.5936\n",
        "            bg_bri_err = 0.168209\n",
        "        elif method == 'mean':\n",
        "            bg_bri_w = 38.0478\n",
        "            bg_bri_w_err = 0.167016\n",
        "            bg_bri_y = 38.2495\n",
        "            bg_bri_y_err = 0.167458\n",
        "            bg_bri_r = 38.3052\n",
        "            bg_bri_r_err = 0.16758\n",
        "            bg_bri_err = np.sqrt(bg_bri_w_err**2+\n",
        "                             bg_bri_y_err**2+\n",
        "                             bg_bri_r_err**2)/3.\n",
        "            bg_bri = (bg_bri_w + bg_bri_y + bg_bri_r)/3.\n",
        "    elif filt == 'v':\n",
        "        src_count = 222300.59\n",
        "        src_count_err = 471.488\n",
        "        src_pixel = 1364\n",
        "        exposure = 3099.1212399362225\n",
        "        if method == 'annulus':\n",
        "            bg_bri = 158.389\n",
        "            bg_bri_err = 0.171248\n",
        "        elif method == 'single':\n",
        "            bg_bri = 159.07\n",
        "            bg_bri_err = 0.341497\n",
        "        elif method == 'mean':\n",
        "            bg_bri_w = 158.038\n",
        "            bg_bri_w_err = 0.340387\n",
        "            bg_bri_y = 159.274\n",
        "            bg_bri_y_err = 0.341716\n",
        "            bg_bri_r = 157.915\n",
        "            bg_bri_r_err = 0.340255\n",
        "            bg_bri_err = np.sqrt(bg_bri_w_err**2+\n",
        "                             bg_bri_y_err**2+\n",
        "                             bg_bri_r_err**2)/3.\n",
        "            bg_bri = (bg_bri_w + bg_bri_y + bg_bri_r)/3.\n",
        "    net_cr, net_cr_err, snr = aper_phot(src_count, src_pixel, bg_bri, exposure, src_count_err, bg_bri_err)\n",
        "    return net_cr, net_cr_err, snr\n",
        "\n",
        "for filt_value in ['uw1', 'v']:\n",
        "    print(filt_value)\n",
        "    \n",
        "    print('annulus: ')\n",
        "    cr, cr_err, snr = print_aper_phot('annulus', filt_value)\n",
        "    print(cr, cr_err, snr)\n",
        "    print(cr2mag(cr, cr_err, filt_value))\n",
        "\n",
        "    print('single: ')\n",
        "    cr, cr_err, snr = print_aper_phot('single', filt_value)\n",
        "    print(cr, cr_err, snr)\n",
        "    print(cr2mag(cr, cr_err, filt_value))\n",
        "\n",
        "    print('mean: ')\n",
        "    cr, cr_err, snr = print_aper_phot('mean', filt_value)\n",
        "    print(cr, cr_err, snr)\n",
        "    print(cr2mag(cr, cr_err, filt_value))"
      ],
      "outputs": [
        {
          "output_type": "stream",
          "name": "stdout",
          "text": [
            "uw1\n",
            "annulus: \n",
            "0.20673915014928443 0.030638941636519382 6.747594371956584\n",
            "(19.151443183325345, 0.16090715370658848)\n",
            "single: \n",
            "0.1527084069786419 0.039782424399392724 3.838589761285966\n",
            "(19.4803426332278, 0.2828476790378342)\n",
            "mean: \n",
            "0.2180052528021986 0.03253688383818845 6.70024990365938\n",
            "(19.093832605030624, 0.16204413572173604)\n",
            "v\n",
            "annulus: \n",
            "2.019280149275077 0.16978245343882786 11.893338259495808\n",
            "(17.1270085601892, 0.09128944128796325)\n",
            "single: \n",
            "1.719555185943511 0.21385941181986304 8.040586903848393\n",
            "(17.30145970435026, 0.13503195945043184)\n",
            "mean: \n",
            "2.010477654023058 0.1750549494449482 11.484837534715457\n",
            "(17.13175187403313, 0.09453648791079998)\n"
          ]
        }
      ],
      "execution_count": 10,
      "metadata": {
        "collapsed": false,
        "outputHidden": false,
        "inputHidden": false
      }
    },
    {
      "cell_type": "code",
      "source": [
        "print(mag_flux_from_spec('fsunallp.500000.txt', 'uw1'))\n",
        "print(mag_flux_from_spec('fsunallp.500000.txt', 'v'))"
      ],
      "outputs": [
        {
          "output_type": "stream",
          "name": "stdout",
          "text": [
            "(-25.019343221103735, 25.748757806560384)\n",
            "(-25.77621968516572, 186.8160944771781)\n"
          ]
        }
      ],
      "execution_count": 7,
      "metadata": {
        "collapsed": false,
        "outputHidden": false,
        "inputHidden": false
      }
    },
    {
      "cell_type": "code",
      "source": [
        "#unit = 'erg cm-2 s-1 A-1'\n",
        "for filt_value in ['uw1', 'v']:\n",
        "    print(filt_value)\n",
        "\n",
        "    print('annulus: ')\n",
        "    cr, cr_err, snr = print_aper_phot('annulus', filt_value)\n",
        "    print(cr2mean_flux(cr, cr_err, filt_value))\n",
        "\n",
        "    print('single: ')\n",
        "    cr, cr_err, snr = print_aper_phot('single', filt_value)\n",
        "    print(cr2mean_flux(cr, cr_err, filt_value))\n",
        "\n",
        "    print('mean: ')\n",
        "    cr, cr_err, snr = print_aper_phot('mean', filt_value)\n",
        "    print(cr2mean_flux(cr, cr_err, filt_value))"
      ],
      "outputs": [
        {
          "output_type": "stream",
          "name": "stdout",
          "text": [
            "uw1\n",
            "annulus: \n",
            "(4.745421703487279e-17, 7.032760776506577e-18, 6.747594371956583)\n",
            "single: \n",
            "(3.505217992132313e-17, 9.13152540415788e-18, 3.8385897612859656)\n",
            "mean: \n",
            "(5.0040200773523634e-17, 7.468408118060476e-18, 6.70024990365938)\n",
            "v\n",
            "annulus: \n",
            "(5.24429129663646e-16, 4.4094359230465376e-17, 11.893338259495808)\n",
            "single: \n",
            "(4.465872800743898e-16, 5.554162717408648e-17, 8.040586903848393)\n",
            "mean: \n",
            "(5.221430254172679e-16, 4.546368408251099e-17, 11.484837534715457)\n"
          ]
        }
      ],
      "execution_count": 9,
      "metadata": {
        "collapsed": false,
        "outputHidden": false,
        "inputHidden": false
      }
    }
  ],
  "metadata": {
    "kernel_info": {
      "name": "python3"
    },
    "language_info": {
      "name": "python",
      "version": "3.7.4",
      "mimetype": "text/x-python",
      "codemirror_mode": {
        "name": "ipython",
        "version": 3
      },
      "pygments_lexer": "ipython3",
      "nbconvert_exporter": "python",
      "file_extension": ".py"
    },
    "kernelspec": {
      "name": "python3",
      "language": "python",
      "display_name": "Python 3"
    },
    "nteract": {
      "version": "0.14.4"
    }
  },
  "nbformat": 4,
  "nbformat_minor": 0
}