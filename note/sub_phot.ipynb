{
  "cells": [
    {
      "cell_type": "code",
      "source": [
        "%run __init__.py\n",
        "import numpy as np\n",
        "import pandas as pd\n",
        "import matplotlib.pyplot as plt\n",
        "from astropy.io import fits\n",
        "from itertools import combinations\n",
        "from tools import *\n",
        "from before_stack import *\n",
        "from conversion import *\n",
        "from aper_phot import *\n",
        "from cr_to_flux import *"
      ],
      "outputs": [],
      "execution_count": 2,
      "metadata": {
        "collapsed": false,
        "outputHidden": false,
        "inputHidden": false
      }
    },
    {
      "cell_type": "code",
      "source": [
        "def fits_sub(img_uw1_name, img_uvv_name, mon):\n",
        "    img_uw1_data = load_img(img_uw1_name)\n",
        "    img_uvv_data = load_img(img_uvv_name)\n",
        "    img_uw1_header = load_header(img_uw1_name)\n",
        "    exposure_uw1 = float(load_header(img_uw1_name)['EXPTIME'])\n",
        "    exposure_uvv = float(load_header(img_uvv_name)['EXPTIME'])\n",
        "    beta = 0.09276191501510327\n",
        "    sub_data = img_uw1_data/exposure_uw1 \\\n",
        "               - beta*(img_uvv_data/exposure_uvv)\n",
        "    output_path = get_path('../docs/'+mon+'_sub.fits')\n",
        "    hdu = fits.PrimaryHDU(sub_data)\n",
        "    hdr = hdu.header\n",
        "    hdr['TELESCOP'] = img_uw1_header['TELESCOP']\n",
        "    hdr['INSTRUME'] = img_uw1_header['INSTRUME']\n",
        "    hdr['COMET'] = img_uw1_header['COMET']\n",
        "    hdr['XPOS'] = img_uw1_header['XPOS']\n",
        "    hdr['YPOS'] = img_uw1_header['YPOS']\n",
        "    hdr['MID_T_UV'] = img_uw1_header['MID_TIME']\n",
        "    hdr['MID_T_V'] = load_header(img_uvv_name)['MID_TIME']\n",
        "    hdu.writeto(output_path)\n",
        "    \n",
        "fits_sub('dec_stack_uw1.fits', 'dec_stack_uvv.fits', 'dec')"
      ],
      "outputs": [],
      "execution_count": 5,
      "metadata": {
        "collapsed": false,
        "outputHidden": false,
        "inputHidden": false
      }
    }
  ],
  "metadata": {
    "kernel_info": {
      "name": "python3"
    },
    "language_info": {
      "name": "python",
      "version": "3.7.4",
      "mimetype": "text/x-python",
      "codemirror_mode": {
        "name": "ipython",
        "version": 3
      },
      "pygments_lexer": "ipython3",
      "nbconvert_exporter": "python",
      "file_extension": ".py"
    },
    "kernelspec": {
      "name": "python3",
      "language": "python",
      "display_name": "Python 3"
    },
    "nteract": {
      "version": "0.15.0"
    }
  },
  "nbformat": 4,
  "nbformat_minor": 0
}